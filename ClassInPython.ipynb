{
  "metadata": {
    "kernelspec": {
      "name": "python",
      "display_name": "Python (Pyodide)",
      "language": "python"
    },
    "language_info": {
      "codemirror_mode": {
        "name": "python",
        "version": 3
      },
      "file_extension": ".py",
      "mimetype": "text/x-python",
      "name": "python",
      "nbconvert_exporter": "python",
      "pygments_lexer": "ipython3",
      "version": "3.8"
    }
  },
  "nbformat_minor": 4,
  "nbformat": 4,
  "cells": [
    {
      "cell_type": "markdown",
      "source": "Classes and OOP\n    Attribute: when variable comes inside of a class, we call it attribute\n    Constructor: a method (a lot like a function) that accepts values to contruct our class: here we insert values of attributes\n    __init__: def init \n    self: is a argument that resides only inside a class that is passed to every method. so the method can acess the attribtues of a class. \nMthods\n    Class function\nInheritance: pass one class into another class. thus providing attribute of parent class to a child class. \n    Super: with super keywork, we can override attribute of child class in a method and access the attribute of parent class.",
      "metadata": {}
    },
    {
      "cell_type": "code",
      "source": "class MyFirstClass:\n    my_class_attribute = 7\n\nmy_first_class_instance = MyFirstClass()\nmy_second_class_instance = MyFirstClass()\n\nprint (my_first_class_instance.my_class_attribute)\n\nprint (my_second_class_instance.my_class_attribute)",
      "metadata": {
        "trusted": true
      },
      "outputs": [
        {
          "name": "stdout",
          "text": "7\n7\n",
          "output_type": "stream"
        }
      ],
      "execution_count": 2
    },
    {
      "cell_type": "code",
      "source": "class MyFirstClass:\n    my_class_attribute = 7\n\nmy_first_class_instance = MyFirstClass()\nmy_second_class_instance = MyFirstClass()\n\nmy_first_class_instance.my_class_attribute += 7\n\nprint (my_first_class_instance.my_class_attribute)\n\nprint (my_second_class_instance.my_class_attribute)",
      "metadata": {
        "trusted": true
      },
      "outputs": [
        {
          "name": "stdout",
          "text": "14\n7\n",
          "output_type": "stream"
        }
      ],
      "execution_count": 3
    },
    {
      "cell_type": "code",
      "source": "class MyFirstClass:\n    my_class_attribute = 7\n    def __init__():\n        print(\"My Frist Class is Initialized\")\n\nmy_first_class_instance = MyFirstClass()\nmy_second_class_instance = MyFirstClass()\n\nmy_first_class_instance.my_class_attribute += 7\n\nprint (my_first_class_instance.my_class_attribute)\n\nprint (my_second_class_instance.my_class_attribute)",
      "metadata": {
        "trusted": true
      },
      "outputs": [
        {
          "ename": "<class 'TypeError'>",
          "evalue": "MyFirstClass.__init__() takes 0 positional arguments but 1 was given",
          "traceback": [
            "\u001b[0;31m---------------------------------------------------------------------------\u001b[0m",
            "\u001b[0;31mTypeError\u001b[0m                                 Traceback (most recent call last)",
            "Cell \u001b[0;32mIn[4], line 6\u001b[0m\n\u001b[1;32m      3\u001b[0m     \u001b[38;5;28;01mdef\u001b[39;00m \u001b[38;5;21m__init__\u001b[39m():\n\u001b[1;32m      4\u001b[0m         \u001b[38;5;28mprint\u001b[39m(\u001b[38;5;124m\"\u001b[39m\u001b[38;5;124mMy Frist Class is Initialized\u001b[39m\u001b[38;5;124m\"\u001b[39m)\n\u001b[0;32m----> 6\u001b[0m my_first_class_instance \u001b[38;5;241m=\u001b[39m \u001b[43mMyFirstClass\u001b[49m\u001b[43m(\u001b[49m\u001b[43m)\u001b[49m\n\u001b[1;32m      7\u001b[0m my_second_class_instance \u001b[38;5;241m=\u001b[39m MyFirstClass()\n\u001b[1;32m      9\u001b[0m my_first_class_instance\u001b[38;5;241m.\u001b[39mmy_class_attribute \u001b[38;5;241m+\u001b[39m\u001b[38;5;241m=\u001b[39m \u001b[38;5;241m7\u001b[39m\n",
            "\u001b[0;31mTypeError\u001b[0m: MyFirstClass.__init__() takes 0 positional arguments but 1 was given"
          ],
          "output_type": "error"
        }
      ],
      "execution_count": 4
    },
    {
      "cell_type": "markdown",
      "source": "Self is a argument which need to be given as a default positional arguemnt",
      "metadata": {}
    },
    {
      "cell_type": "code",
      "source": "class MyFirstClass:\n    my_class_attribute = 7\n    def __init__(self):\n        print(\"My Frist Class is Initialized\")\n\nmy_first_class_instance = MyFirstClass()\nmy_second_class_instance = MyFirstClass()\n\nmy_first_class_instance.my_class_attribute += 7\n\nprint (my_first_class_instance.my_class_attribute)\n\nprint (my_second_class_instance.my_class_attribute)",
      "metadata": {
        "trusted": true
      },
      "outputs": [
        {
          "name": "stdout",
          "text": "My Frist Class is Initialized\nMy Frist Class is Initialized\n14\n7\n",
          "output_type": "stream"
        }
      ],
      "execution_count": 5
    },
    {
      "cell_type": "code",
      "source": "class MyFirstClass:\n    my_class_attribute = 7\n    def __init__(self):\n        print(\"My Frist Class is Initialized\")\n        print (self.my_class_attribute)\n\nmy_first_class_instance = MyFirstClass()\nmy_second_class_instance = MyFirstClass()\n\nmy_first_class_instance.my_class_attribute += 7\n\nprint (my_first_class_instance.my_class_attribute)\n\nprint (my_second_class_instance.my_class_attribute)",
      "metadata": {
        "trusted": true
      },
      "outputs": [
        {
          "name": "stdout",
          "text": "My Frist Class is Initialized\n7\nMy Frist Class is Initialized\n7\n14\n7\n",
          "output_type": "stream"
        }
      ],
      "execution_count": 6
    },
    {
      "cell_type": "code",
      "source": "class MyFirstClass:\n    # my_class_attribute = 7\n    def __init__(self, my_class_attribute):\n        self.my_class_attribute = my_class_attribute\n        print(\"My Frist Class is Initialized\")\n        print (self.my_class_attribute)\n\nmy_first_class_instance = MyFirstClass(10)\nmy_second_class_instance = MyFirstClass(5)\n\nmy_first_class_instance.my_class_attribute += 7\n\nprint (my_first_class_instance.my_class_attribute)\n\nprint (my_second_class_instance.my_class_attribute)",
      "metadata": {
        "trusted": true
      },
      "outputs": [
        {
          "name": "stdout",
          "text": "My Frist Class is Initialized\n10\nMy Frist Class is Initialized\n5\n17\n5\n",
          "output_type": "stream"
        }
      ],
      "execution_count": 8
    },
    {
      "cell_type": "code",
      "source": "class MyFirstClass:\n    # my_class_attribute = 7\n    def __init__(self, **kwargs):\n        self.my_class_attribute =kwargs[\"my_class_attribute\"]\n        print(\"My Frist Class is Initialized\")\n        print (self.my_class_attribute)\n\nmy_first_class_instance = MyFirstClass(my_class_attribute = 10)\nmy_second_class_instance = MyFirstClass(my_class_attribute = 5)\n\nmy_first_class_instance.my_class_attribute += 7\n\nprint (my_first_class_instance.my_class_attribute)\n\nprint (my_second_class_instance.my_class_attribute)",
      "metadata": {
        "trusted": true
      },
      "outputs": [
        {
          "name": "stdout",
          "text": "My Frist Class is Initialized\n10\nMy Frist Class is Initialized\n5\n17\n5\n",
          "output_type": "stream"
        }
      ],
      "execution_count": 9
    },
    {
      "cell_type": "markdown",
      "source": "Method acts like a function that lives on the class and has access to the instance of the class",
      "metadata": {}
    },
    {
      "cell_type": "code",
      "source": "class MyFirstClass:\n    def __init__(self, **kwargs):\n        self.numeric_attribute =kwargs[\"numeric_attribute\"]\n        print(\"My Frist Class is Initialized\")\n        print (self.numeric_attribute)\n\n    def compare_to_attribute(self, value_to_compare):\n        if value_to_compare > self.numeric_attribute:\n            return \"Greater than\"\n        elif value_to_compare < self.numeric_attribute:\n            return \"less than\"\n        else:\n            return \"equal\"\n\nmy_first_class_instance = MyFirstClass(numeric_attribute = 10)\nmy_second_class_instance = MyFirstClass(numeric_attribute = 5)\n\n\nprint (\"the result of compare_to_attribute for 7 on my_first_instance:\")\nprint(my_first_class_instance.compare_to_attribute(7))\n\nprint(my_second_class_instance.compare_to_attribute(7))",
      "metadata": {
        "trusted": true
      },
      "outputs": [
        {
          "name": "stdout",
          "text": "My Frist Class is Initialized\n10\nMy Frist Class is Initialized\n5\nthe result of compare_to_attribute for 7 on my_first_instance:\nless than\nGreater than\n",
          "output_type": "stream"
        }
      ],
      "execution_count": 16
    },
    {
      "cell_type": "markdown",
      "source": "Inheritance",
      "metadata": {}
    },
    {
      "cell_type": "code",
      "source": "class MyFirstClass:\n    def __init__(self, **kwargs):\n        self.numeric_attribute =kwargs[\"numeric_attribute\"]\n        \n    def compare_to_attribute(self, value_to_compare):\n        if value_to_compare > self.numeric_attribute:\n            return \"Greater than\"\n        elif value_to_compare < self.numeric_attribute:\n            return \"less than\"\n        else:\n            return \"equal\"\n\nclass MyInheritingClass (MyFirstClass):\n    def compare_to_attribute(self, value_to_compare):\n        if value_to_compare > self.numeric_attribute:\n            return \">\"\n        elif value_to_compare < self.numeric_attribute:\n            return \"<\"\n        else:\n            return \"=\"\n\nmy_first_class_instance = MyFirstClass(numeric_attribute = 5)\nmy_second_class_instance = MyInheritingClass(numeric_attribute = 5)\n\n\nprint (\"the result of compare_to_attribute on my_first_instance:\")\nprint(my_first_class_instance.compare_to_attribute(7))\nprint (\"\\nthe result of compare_to_attribute on my_second_instance:\")\nprint(my_second_class_instance.compare_to_attribute(7))",
      "metadata": {
        "trusted": true
      },
      "outputs": [
        {
          "name": "stdout",
          "text": "the result of compare_to_attribute on my_first_instance:\nGreater than\n\nthe result of compare_to_attribute on my_second_instance:\n>\n",
          "output_type": "stream"
        }
      ],
      "execution_count": 21
    },
    {
      "cell_type": "markdown",
      "source": "Super",
      "metadata": {}
    },
    {
      "cell_type": "code",
      "source": "class MyFirstClass:\n    def __init__(self, **kwargs):\n        self.numeric_attribute =kwargs[\"numeric_attribute\"]\n        \n    def compare_to_attribute(self, value_to_compare):\n        if value_to_compare > self.numeric_attribute:\n            return \"Greater than\"\n        elif value_to_compare < self.numeric_attribute:\n            return \"less than\"\n        else:\n            return \"equal\"\n\nclass MyInheritingClass (MyFirstClass):\n    def compare_to_attribute(self, value_to_compare):\n        if value_to_compare > self.numeric_attribute:\n            return \">\"\n        elif value_to_compare < self.numeric_attribute:\n            return \"<\"\n        else:\n            return \"=\"\n\n    def super_compare(self, value_to_compare):\n        return super().compare_to_attribute(value_to_compare)\n\nmy_first_class_instance = MyFirstClass(numeric_attribute = 5)\nmy_second_class_instance = MyInheritingClass(numeric_attribute = 5)\n\n\n# print (\"the result of compare_to_attribute on my_first_instance:\")\n# print(my_first_class_instance.compare_to_attribute(7))\nprint (\"\\nthe result of compare_to_attribute on my_second_instance:\")\nprint(my_second_class_instance.compare_to_attribute(7))\n\nprint (\"\\nthe result of compare_to_attribute on my_second_instance:\")\nprint(my_second_class_instance.super_compare(7))",
      "metadata": {
        "trusted": true
      },
      "outputs": [
        {
          "name": "stdout",
          "text": "\nthe result of compare_to_attribute on my_second_instance:\n>\n\nthe result of compare_to_attribute on my_second_instance:\nGreater than\n",
          "output_type": "stream"
        }
      ],
      "execution_count": 22
    },
    {
      "cell_type": "code",
      "source": "",
      "metadata": {
        "trusted": true
      },
      "outputs": [],
      "execution_count": null
    }
  ]
}